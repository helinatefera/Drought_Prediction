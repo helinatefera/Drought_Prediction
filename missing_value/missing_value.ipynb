{
 "cells": [
  {
   "cell_type": "code",
   "execution_count": 1,
   "metadata": {},
   "outputs": [],
   "source": [
    "# Importing the libraries\n",
    "import pandas as pd\n",
    "import matplotlib.pyplot as plt"
   ]
  },
  {
   "cell_type": "code",
   "execution_count": 5,
   "metadata": {},
   "outputs": [],
   "source": [
    "# Importing the dataset\n",
    "df = pd.read_excel(\"../data.xlsx\")"
   ]
  },
  {
   "cell_type": "code",
   "execution_count": 7,
   "metadata": {},
   "outputs": [
    {
     "name": "stderr",
     "output_type": "stream",
     "text": [
      "/tmp/ipykernel_57298/3861064332.py:10: DeprecationWarning: Conversion of an array with ndim > 0 to a scalar is deprecated, and will error in future. Ensure you extract a single element from your array before performing this operation. (Deprecated NumPy 1.25.)\n",
      "  d.append(int(df[month].values))\n",
      "/tmp/ipykernel_57298/3861064332.py:10: DeprecationWarning: Conversion of an array with ndim > 0 to a scalar is deprecated, and will error in future. Ensure you extract a single element from your array before performing this operation. (Deprecated NumPy 1.25.)\n",
      "  d.append(int(df[month].values))\n"
     ]
    },
    {
     "name": "stdout",
     "output_type": "stream",
     "text": [
      "[4, 16, 12]\n",
      "4\n",
      "16\n",
      "12\n"
     ]
    },
    {
     "name": "stderr",
     "output_type": "stream",
     "text": [
      "/tmp/ipykernel_57298/3861064332.py:10: DeprecationWarning: Conversion of an array with ndim > 0 to a scalar is deprecated, and will error in future. Ensure you extract a single element from your array before performing this operation. (Deprecated NumPy 1.25.)\n",
      "  d.append(int(df[month].values))\n"
     ]
    }
   ],
   "source": [
    "station = ['Dangila', 'Bedele', 'Gatira']\n",
    "d=[]\n",
    "def get_neighbor_data(df, station, year, month, element='PRECIP'):\n",
    "    \n",
    "    for n in station:\n",
    "        df = pd.read_excel(\"../data.xlsx\")\n",
    "        # Selecting the data of station for the year 2021 for january\n",
    "        df = df[(df['NAME'] == n) & (df['YEAR'] == year) & (df[\"Element\"] == element)]\n",
    "        # print(f\"Data for {n} in {month} {year}:\\n\", df)\n",
    "        d.append(int(df[month].values))\n",
    "    print(d)\n",
    "        \n",
    "get_neighbor_data(df, station, 2021, 'Jan',)\n",
    "for i in range(len(station)):\n",
    "    print(d[i])"
   ]
  },
  {
   "cell_type": "code",
   "execution_count": 9,
   "metadata": {},
   "outputs": [
    {
     "name": "stdout",
     "output_type": "stream",
     "text": [
      "17.480519589633282\n"
     ]
    }
   ],
   "source": [
    "#calculate mean for name = Dangila for all year and element = PRECIP for january add it to array\n",
    "m=[]\n",
    "df_dangila = df[(df['NAME'] == 'Dangila') & (df[\"Element\"] == 'PRECIP')]\n",
    "df_dangila = df['Jan'].mean()\n",
    "# print(df_dangila)\n",
    "\n",
    "\n",
    "def get_mean(df, station, month, element='PRECIP'):\n",
    "    for n in station:\n",
    "        df = pd.read_excel(\"../data.xlsx\")\n",
    "        # Selecting the data of station for the year 2021 for january\n",
    "        df = df[(df['NAME'] == n) & (df[\"Element\"] == element)]\n",
    "        # print(f\"Data for {n} in {month} {year}:\\n\", df)\n",
    "        m.append(df[month].mean())\n",
    "get_mean(df, station, 'Jan')\n",
    "sum = 0\n",
    "for i in range(0, len(station)-1):\n",
    "    sum = sum + (df_dangila/m[i])*d[i]\n",
    "print(sum/len(station))\n",
    "    \n",
    "\n",
    "\n",
    "# get_mean(df, station, 'Jan')"
   ]
  },
  {
   "cell_type": "code",
   "execution_count": null,
   "metadata": {},
   "outputs": [],
   "source": []
  }
 ],
 "metadata": {
  "kernelspec": {
   "display_name": ".venv",
   "language": "python",
   "name": "python3"
  },
  "language_info": {
   "codemirror_mode": {
    "name": "ipython",
    "version": 3
   },
   "file_extension": ".py",
   "mimetype": "text/x-python",
   "name": "python",
   "nbconvert_exporter": "python",
   "pygments_lexer": "ipython3",
   "version": "3.10.12"
  }
 },
 "nbformat": 4,
 "nbformat_minor": 2
}

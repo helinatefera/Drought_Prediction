{
 "cells": [
  {
   "cell_type": "markdown",
   "metadata": {},
   "source": [
    "# Normal Ratio Method\n",
    "The normal ratio (NR) method was firstly suggested by Paulhus and Kohler in 1952 and then it was updated by Young in 1992. It is based on mean ratio of data between a target station and neighbouring stations. There is another version of normal ratio method that is called old normal ratio (ONR).\n",
    "The Normal Ratio Method (NR) for estimating missing values is given by:\n",
    "\n",
    "$$\n",
    "P_t = \\frac{1}{T} \\sum_{i=1}^{T} \\left( \\frac{M_s}{M_i} \\right) Y_i\n",
    "$$\n",
    "\n",
    "where:\n",
    "\n",
    "- \\(P_t\\) is the estimated value for the target station.\n",
    "- \\(T\\) is the number of neighboring stations.\n",
    "- \\(M_s\\) is the sample mean of the available data at the target station.\n",
    "- \\(M_i\\) is the sample mean of the available data at the \\(i\\)-th neighboring station.\n",
    "- \\(Y_i\\) is the observed value of the parameter (e.g., temperature or rainfall) at the \\(i\\)-th neighboring station.\n",
    "\n",
    "\n"
   ]
  },
  {
   "cell_type": "code",
   "execution_count": 1,
   "metadata": {},
   "outputs": [],
   "source": [
    "# Importing the libraries\n",
    "import pandas as pd\n",
    "import matplotlib.pyplot as plt"
   ]
  },
  {
   "cell_type": "code",
   "execution_count": 3,
   "metadata": {},
   "outputs": [],
   "source": [
    "# Importing the dataset\n",
    "df = pd.read_excel(\"../Drought_Prediction/data.xlsx\")"
   ]
  },
  {
   "cell_type": "code",
   "execution_count": 9,
   "metadata": {},
   "outputs": [
    {
     "name": "stderr",
     "output_type": "stream",
     "text": [
      "/tmp/ipykernel_16875/3000070543.py:9: DeprecationWarning: Conversion of an array with ndim > 0 to a scalar is deprecated, and will error in future. Ensure you extract a single element from your array before performing this operation. (Deprecated NumPy 1.25.)\n",
      "  d.append(int(df[month].values))\n",
      "/tmp/ipykernel_16875/3000070543.py:9: DeprecationWarning: Conversion of an array with ndim > 0 to a scalar is deprecated, and will error in future. Ensure you extract a single element from your array before performing this operation. (Deprecated NumPy 1.25.)\n",
      "  d.append(int(df[month].values))\n"
     ]
    },
    {
     "name": "stdout",
     "output_type": "stream",
     "text": [
      "[4, 16, 12]\n",
      "4\n",
      "16\n",
      "12\n"
     ]
    },
    {
     "name": "stderr",
     "output_type": "stream",
     "text": [
      "/tmp/ipykernel_16875/3000070543.py:9: DeprecationWarning: Conversion of an array with ndim > 0 to a scalar is deprecated, and will error in future. Ensure you extract a single element from your array before performing this operation. (Deprecated NumPy 1.25.)\n",
      "  d.append(int(df[month].values))\n"
     ]
    }
   ],
   "source": [
    "station = ['Dangila', 'Bedele', 'Gatira']\n",
    "d=[]\n",
    "def get_neighbor_data(df, station, year, month, element='PRECIP'):\n",
    "    for n in station:\n",
    "        # df = pd.read_excel(\"../Drought_Prediction/data.xlsx\")\n",
    "        # Selecting the data of station for the year 2021 for january\n",
    "        df = df[(df['NAME'] == n) & (df['YEAR'] == year) & (df[\"Element\"] == element)]\n",
    "        # print(f\"Data for {n} in {month} {year}:\\n\", df)\n",
    "        d.append(int(df[month].values))\n",
    "    print(d)\n",
    "        \n",
    "get_neighbor_data(df, station, 2021, 'Jan',)\n",
    "for i in range(len(station)):\n",
    "    print(d[i])"
   ]
  },
  {
   "cell_type": "code",
   "execution_count": 25,
   "metadata": {},
   "outputs": [
    {
     "name": "stdout",
     "output_type": "stream",
     "text": [
      "Missing value for Abomsa station for january  2021 using Normal Ratio Method is : 17.480519589633282\n"
     ]
    }
   ],
   "source": [
    "#calculate mean for name = Abomsa for all year and element = PRECIP for january add it to array\n",
    "m=[]\n",
    "df_Abomsa = df[(df['NAME'] == 'Abomsa') & (df[\"Element\"] == 'PRECIP')]\n",
    "df_Abomsa = df['Jan'].mean()\n",
    "# print(df_Abomsa)\n",
    "\n",
    "\n",
    "def get_mean(df, station, month, element='PRECIP'):\n",
    "    for n in station:\n",
    "        # df = pd.read_excel(\"../Drought_Prediction/data.xlsx\")\n",
    "        # Selecting the data of station for the year 2021 for january\n",
    "        df = df[(df['NAME'] == n) & (df[\"Element\"] == element)]\n",
    "        # print(f\"Data for {n} in {month} {year}:\\n\", df)\n",
    "        m.append(df[month].mean())\n",
    "get_mean(df, station, 'Jan')\n",
    "sum = 0\n",
    "for i in range(0, len(station)-1):\n",
    "    sum = sum + (df_Abomsa/m[i])*d[i]\n",
    "mising_vlaue = sum/len(station)\n",
    "print(f\"Missing value for Abomsa station for january  2021 using Normal Ratio Method is : {mising_vlaue}\")"
   ]
  },
  {
   "cell_type": "code",
   "execution_count": 26,
   "metadata": {},
   "outputs": [
    {
     "name": "stdout",
     "output_type": "stream",
     "text": [
      "0     NaN\n",
      "2     7.4\n",
      "3     2.0\n",
      "4     5.4\n",
      "5    67.7\n",
      "6    19.9\n",
      "7     0.0\n",
      "8     0.0\n",
      "Name: Jan, dtype: float64\n",
      "Mean value for Abomsa station is: 14.628571428571428\n"
     ]
    },
    {
     "data": {
      "image/png": "[encoded data removed]",
      "text/plain": [
       "<Figure size 640x480 with 1 Axes>"
      ]
     },
     "metadata": {},
     "output_type": "display_data"
    }
   ],
   "source": [
    "#value for Abomsa for january for all year\n",
    "df_Abomsa_Jan = df[(df['NAME'] == 'Abomsa') & (df[\"Element\"] == 'PRECIP')]\n",
    "df_Abomsa_Jan = df_Abomsa_Jan['Jan'].head(8)\n",
    "print(df_Abomsa_Jan)\n",
    "#visualize january for Abomsa for all year\n",
    "df_Abomsa_Jan.plot()\n",
    "\n",
    "#Mean value for Abomsa station for january\n",
    "print(f\"Mean value for Abomsa station is: {df_Abomsa_Jan.mean()}\")"
   ]
  },
  {
   "cell_type": "markdown",
   "metadata": {},
   "source": [
    "# Geographical Coordinates Method\n",
    "Geographical coordinate (GC) method is a weighting method which is used for imputing missing rainfall values. It uses the inverse of geographical coordinates (latitude and longitude) to calculate weight coefficient. In GC method, the centre point represents a target station. The distance from a centre point to surrounding stations is computed in order to determine the nearest stations.\n",
    "The formula is given by:\n",
    "\n",
    "The formula is given by:\n",
    "\n",
    "$$\n",
    "P_t = {\\sum_{i=1}^{n}\\frac{ \\left( \\frac{1}{X_i^2 + Y_i^2} \\right) }{\\sum_{i=1}^{n} \\left( \\frac{1}{X_i^2 + Y_i^2} \\right) }Y_i}\n",
    "$$\n",
    "\n",
    "where:\n",
    "\n",
    "- \\(P_t\\) is the estimated value.\n",
    "- \\(X_i\\) and \\(Y_i\\) are coordinates for the \\(i\\)-th point.\n",
    "- \\(Y_i\\) is the observed value for the \\(i\\)-th point.\n",
    "- \\(n\\) is the number of points.\n",
    "\n"
   ]
  },
  {
   "cell_type": "code",
   "execution_count": null,
   "metadata": {},
   "outputs": [],
   "source": []
  }
 ],
 "metadata": {
  "kernelspec": {
   "display_name": ".venv",
   "language": "python",
   "name": "python3"
  },
  "language_info": {
   "codemirror_mode": {
    "name": "ipython",
    "version": 3
   },
   "file_extension": ".py",
   "mimetype": "text/x-python",
   "name": "python",
   "nbconvert_exporter": "python",
   "pygments_lexer": "ipython3",
   "version": "3.10.12"
  }
 },
 "nbformat": 4,
 "nbformat_minor": 2
}
